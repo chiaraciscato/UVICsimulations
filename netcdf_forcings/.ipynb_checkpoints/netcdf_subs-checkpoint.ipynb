{
 "cells": [
  {
   "cell_type": "code",
   "execution_count": 33,
   "id": "ed95a6ea-3e6c-43b8-a5f3-228376bbaed6",
   "metadata": {},
   "outputs": [],
   "source": [
    "import xarray as xr\n",
    "import matplotlib as mpl\n",
    "import matplotlib.pyplot as plt\n",
    "import matplotlib.patches as mpatches"
   ]
  },
  {
   "cell_type": "markdown",
   "id": "160f5a6e-e506-4ce5-9ea6-ede2be891f5c",
   "metadata": {},
   "source": [
    "### emission-driven runs"
   ]
  },
  {
   "cell_type": "code",
   "execution_count": 37,
   "id": "b98ba38b-fc60-416f-899d-ebb20c051f36",
   "metadata": {},
   "outputs": [],
   "source": [
    "base_emiss = xr.open_dataset('/Users/chiaraciscato/Desktop/geomar/UVic/data.100.100.19/F_co2emit_RCP85.nc') # 8.5"
   ]
  },
  {
   "cell_type": "code",
   "execution_count": 38,
   "id": "ee911f19-bc8b-409a-a8c2-01e7ca7e8c6d",
   "metadata": {},
   "outputs": [],
   "source": [
    "decr_5 = (- base_emiss.where((base_emiss.time > 2020.) & (base_emiss.time <= 2100.)) / 100 * 5) # 7.0\n",
    "decr_10 = (- base_emiss.where((base_emiss.time > 2020.) & (base_emiss.time <= 2100.)) / 100 * 10) # 4.5\n",
    "decr_15 =  (- base_emiss.where((base_emiss.time > 2020.) & (base_emiss.time <= 2100.)) / 100 * 15) # 2.6"
   ]
  },
  {
   "cell_type": "code",
   "execution_count": 39,
   "id": "9c8ad000-2578-4870-af7b-55a7b0d40f2b",
   "metadata": {},
   "outputs": [],
   "source": [
    "decr_5_emiss = (decr_5.fillna(0)) + base_emiss \n",
    "decr_10_emiss = (decr_10.fillna(0)) + base_emiss\n",
    "decr_15_emiss = (decr_15.fillna(0)) + base_emiss"
   ]
  },
  {
   "cell_type": "code",
   "execution_count": 44,
   "id": "edf7df7e-2675-4678-b9c8-eb16cfe9fe4f",
   "metadata": {},
   "outputs": [],
   "source": [
    "decr_5_emiss = decr_5_emiss.sel(time=slice(2000.,2100.))\n",
    "decr_10_emiss = decr_10_emiss.sel(time=slice(2000.,2100.))\n",
    "decr_15_emiss = decr_15_emiss.sel(time=slice(2000.,2100.))"
   ]
  },
  {
   "cell_type": "code",
   "execution_count": 6,
   "id": "00bc9501-4ee1-41be-85ed-781a61fa7aeb",
   "metadata": {},
   "outputs": [],
   "source": [
    "# decr_5_emiss.to_netcdf('/Users/chiaraciscato/Desktop/UVic/chiara_runs/netcdf_forcings/decr_5_emis.nc')\n",
    "# decr_10_emiss.to_netcdf('/Users/chiaraciscato/Desktop/UVic/chiara_runs/netcdf_forcings/decr_10_emis.nc')\n",
    "# decr_15_emiss.to_netcdf('/Users/chiaraciscato/Desktop/UVic/chiara_runs/netcdf_forcings/decr_15_emis.nc')"
   ]
  },
  {
   "cell_type": "markdown",
   "id": "a8efdff1-bb78-41ba-8363-f61f21d9b453",
   "metadata": {},
   "source": [
    "### concentration-driven runs"
   ]
  },
  {
   "cell_type": "code",
   "execution_count": 4,
   "id": "72dd43a5-b670-496f-ab0d-63735c390afe",
   "metadata": {},
   "outputs": [],
   "source": [
    "base_ccn = xr.open_dataset('/Users/chiaraciscato/Desktop/geomar/UVic/data.100.100.19/A_co2.nc') # 4.5"
   ]
  },
  {
   "cell_type": "code",
   "execution_count": 5,
   "id": "041eae5e-b5dd-492c-935f-5680df5746b5",
   "metadata": {},
   "outputs": [],
   "source": [
    "incr_5 = (base_ccn.where((base_ccn.time > 2020.) & (base_ccn.time <= 2100.)) / 100 * 5) # 7.0\n",
    "incr_10 = (base_ccn.where((base_ccn.time > 2020.) & (base_ccn.time <= 2100.)) / 100 * 10) # 8.5\n",
    "decr_5 =  (- base_ccn.where((base_ccn.time > 2020.) & (base_ccn.time <= 2100.)) / 100 * 5) # 2.6"
   ]
  },
  {
   "cell_type": "code",
   "execution_count": 6,
   "id": "5b188ed4-1234-4097-924f-2b922cbeb536",
   "metadata": {},
   "outputs": [],
   "source": [
    "incr_5_ccn = (incr_5.fillna(0)) + base_ccn.A_co2 \n",
    "incr_10_ccn = (incr_10.fillna(0)) + base_ccn.A_co2\n",
    "decr_5_ccn = (decr_5.fillna(0)) + base_ccn.A_co2"
   ]
  },
  {
   "cell_type": "code",
   "execution_count": 10,
   "id": "9b1ecbd1-e2b8-4fc2-b4cb-5e33a592cc5e",
   "metadata": {},
   "outputs": [],
   "source": [
    "# incr_5_ccn.to_netcdf('/Users/chiaraciscato/Desktop/UVic/chiara_runs/netcdf_forcings/incr_5_ccn.nc')\n",
    "# incr_10_ccn.to_netcdf('/Users/chiaraciscato/Desktop/UVic/chiara_runs/netcdf_forcings/incr_10_ccn.nc')\n",
    "# decr_5_ccn.to_netcdf('/Users/chiaraciscato/Desktop/UVic/chiara_runs/netcdf_forcings/decr_5_ccn.nc')"
   ]
  }
 ],
 "metadata": {
  "kernelspec": {
   "display_name": "geomar",
   "language": "python",
   "name": "geomar"
  },
  "language_info": {
   "codemirror_mode": {
    "name": "ipython",
    "version": 3
   },
   "file_extension": ".py",
   "mimetype": "text/x-python",
   "name": "python",
   "nbconvert_exporter": "python",
   "pygments_lexer": "ipython3",
   "version": "3.7.12"
  }
 },
 "nbformat": 4,
 "nbformat_minor": 5
}
