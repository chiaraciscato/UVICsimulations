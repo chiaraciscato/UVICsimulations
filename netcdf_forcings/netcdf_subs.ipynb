{
 "cells": [
  {
   "cell_type": "code",
   "execution_count": 1,
   "id": "ed95a6ea-3e6c-43b8-a5f3-228376bbaed6",
   "metadata": {},
   "outputs": [],
   "source": [
    "import xarray as xr\n",
    "import matplotlib as mpl\n",
    "import matplotlib.pyplot as plt\n",
    "import matplotlib.patches as mpatches\n",
    "import numpy as np"
   ]
  },
  {
   "cell_type": "markdown",
   "id": "160f5a6e-e506-4ce5-9ea6-ede2be891f5c",
   "metadata": {
    "jp-MarkdownHeadingCollapsed": true,
    "tags": []
   },
   "source": [
    "### emission-driven runs"
   ]
  },
  {
   "cell_type": "code",
   "execution_count": 2,
   "id": "b98ba38b-fc60-416f-899d-ebb20c051f36",
   "metadata": {},
   "outputs": [],
   "source": [
    "base_emiss = xr.open_dataset('/Users/chiaraciscato/Desktop/geomar/UVic/data.100.100.19/F_co2emit_RCP85.nc') # 8.5"
   ]
  },
  {
   "cell_type": "code",
   "execution_count": 3,
   "id": "ee911f19-bc8b-409a-a8c2-01e7ca7e8c6d",
   "metadata": {},
   "outputs": [],
   "source": [
    "decr_5 = (- base_emiss.where((base_emiss.time > 2020.) & (base_emiss.time <= 2100.)) / 100 * 5) # 7.0\n",
    "decr_10 = (- base_emiss.where((base_emiss.time > 2020.) & (base_emiss.time <= 2100.)) / 100 * 10) # 4.5\n",
    "decr_15 =  (- base_emiss.where((base_emiss.time > 2020.) & (base_emiss.time <= 2100.)) / 100 * 15) # 2.6"
   ]
  },
  {
   "cell_type": "code",
   "execution_count": 4,
   "id": "9c8ad000-2578-4870-af7b-55a7b0d40f2b",
   "metadata": {},
   "outputs": [],
   "source": [
    "decr_5_emiss = (decr_5.fillna(0)) + base_emiss \n",
    "decr_10_emiss = (decr_10.fillna(0)) + base_emiss\n",
    "decr_15_emiss = (decr_15.fillna(0)) + base_emiss"
   ]
  },
  {
   "cell_type": "code",
   "execution_count": 5,
   "id": "edf7df7e-2675-4678-b9c8-eb16cfe9fe4f",
   "metadata": {},
   "outputs": [],
   "source": [
    "decr_5_emiss = decr_5_emiss.sel(time=slice(2000.,2100.))\n",
    "decr_10_emiss = decr_10_emiss.sel(time=slice(2000.,2100.))\n",
    "decr_15_emiss = decr_15_emiss.sel(time=slice(2000.,2100.))"
   ]
  },
  {
   "cell_type": "code",
   "execution_count": 6,
   "id": "00bc9501-4ee1-41be-85ed-781a61fa7aeb",
   "metadata": {},
   "outputs": [],
   "source": [
    "# decr_5_emiss.to_netcdf('/Users/chiaraciscato/Desktop/UVic/chiara_runs/netcdf_forcings/decr_5_emis.nc')\n",
    "# decr_10_emiss.to_netcdf('/Users/chiaraciscato/Desktop/UVic/chiara_runs/netcdf_forcings/decr_10_emis.nc')\n",
    "# decr_15_emiss.to_netcdf('/Users/chiaraciscato/Desktop/UVic/chiara_runs/netcdf_forcings/decr_15_emis.nc')"
   ]
  },
  {
   "cell_type": "markdown",
   "id": "a8efdff1-bb78-41ba-8363-f61f21d9b453",
   "metadata": {},
   "source": [
    "### concentration-driven runs"
   ]
  },
  {
   "cell_type": "code",
   "execution_count": 7,
   "id": "72dd43a5-b670-496f-ab0d-63735c390afe",
   "metadata": {},
   "outputs": [],
   "source": [
    "base_ccn = xr.open_dataset('/Users/chiaraciscato/Desktop/geomar/UVic/data.100.100.19/A_co2.nc') # RCP4.5"
   ]
  },
  {
   "cell_type": "code",
   "execution_count": 8,
   "id": "041eae5e-b5dd-492c-935f-5680df5746b5",
   "metadata": {},
   "outputs": [],
   "source": [
    "incr_5 = (base_ccn.where((base_ccn.time > 2020.) & (base_ccn.time <= 2100.)) / 100 * 5) # 7.0\n",
    "incr_10 = (base_ccn.where((base_ccn.time > 2020.) & (base_ccn.time <= 2100.)) / 100 * 10) # 8.5\n",
    "decr_5 =  (- base_ccn.where((base_ccn.time > 2020.) & (base_ccn.time <= 2100.)) / 100 * 5) # 2.6"
   ]
  },
  {
   "cell_type": "code",
   "execution_count": 9,
   "id": "5b188ed4-1234-4097-924f-2b922cbeb536",
   "metadata": {},
   "outputs": [],
   "source": [
    "incr_5_ccn = (incr_5.fillna(0)) + base_ccn.A_co2 \n",
    "incr_10_ccn = (incr_10.fillna(0)) + base_ccn.A_co2\n",
    "decr_5_ccn = (decr_5.fillna(0)) + base_ccn.A_co2"
   ]
  },
  {
   "cell_type": "code",
   "execution_count": 10,
   "id": "9b1ecbd1-e2b8-4fc2-b4cb-5e33a592cc5e",
   "metadata": {},
   "outputs": [],
   "source": [
    "# incr_5_ccn.to_netcdf('/Users/chiaraciscato/Desktop/UVic/chiara_runs/netcdf_forcings/incr_5_ccn.nc')\n",
    "# incr_10_ccn.to_netcdf('/Users/chiaraciscato/Desktop/UVic/chiara_runs/netcdf_forcings/incr_10_ccn.nc')\n",
    "# decr_5_ccn.to_netcdf('/Users/chiaraciscato/Desktop/UVic/chiara_runs/netcdf_forcings/decr_5_ccn.nc')"
   ]
  },
  {
   "cell_type": "code",
   "execution_count": null,
   "id": "98655b5a-a70e-4624-9ba7-78e0ea21fec1",
   "metadata": {},
   "outputs": [],
   "source": [
    "# 15% increment from 1960 to 2019"
   ]
  },
  {
   "cell_type": "code",
   "execution_count": null,
   "id": "74c7c87e-833f-4f06-8f40-6ad1d9e966a7",
   "metadata": {},
   "outputs": [],
   "source": [
    "incr_15_pre = base_ccn.sel(time=slice(1765.,1959.))\n",
    "incr_15 = base_ccn.sel(time=slice(1960.,2019.))\n",
    "incr_15_post = base_ccn.sel(time=slice(2020.,2500.))"
   ]
  },
  {
   "cell_type": "code",
   "execution_count": null,
   "id": "847b994e-62f7-43b3-9c2f-3304e78ed6a5",
   "metadata": {},
   "outputs": [],
   "source": [
    "lis_incr_15 = np.arange(0.01,0.16,0.0025)"
   ]
  },
  {
   "cell_type": "code",
   "execution_count": null,
   "id": "1690396c-3517-4b19-b503-107b9522ea51",
   "metadata": {},
   "outputs": [],
   "source": [
    "incr_15 = incr_15 * lis_incr_15\n",
    "post_incr_15 = incr_15_post / 100 * 15"
   ]
  },
  {
   "cell_type": "code",
   "execution_count": null,
   "id": "fda27415-57f9-4814-9ceb-52ca8e58a8c3",
   "metadata": {},
   "outputs": [],
   "source": [
    "incr_15 = base_ccn.where((base_ccn.time >= 1960.) & (base_ccn.time <= 2019.)) + incr_15\n",
    "post_incr_15 = base_ccn.where((base_ccn.time >= 2019.) & (base_ccn.time <= 2500.)) + post_incr_15"
   ]
  },
  {
   "cell_type": "code",
   "execution_count": null,
   "id": "bc003f50-0164-4a23-9957-475eba0937f7",
   "metadata": {},
   "outputs": [],
   "source": [
    "increment_15 = incr_15.combine_first(post_incr_15)\n",
    "increment_15_fin = incr_15_pre.combine_first(increment_15)"
   ]
  },
  {
   "cell_type": "code",
   "execution_count": null,
   "id": "775dd9a3-6e50-43cc-b3c5-85c54c824a0b",
   "metadata": {},
   "outputs": [],
   "source": [
    "# 15% decrement from 1960 to 2019"
   ]
  },
  {
   "cell_type": "code",
   "execution_count": null,
   "id": "8c71824a-8bd8-4f67-bd52-455352a0e8cf",
   "metadata": {},
   "outputs": [],
   "source": [
    "decr_15_pre = base_ccn.sel(time=slice(1765.,1959.))\n",
    "decr_15 = base_ccn.sel(time=slice(1960.,2019.))\n",
    "decr_15_post = base_ccn.sel(time=slice(2020.,2500.))"
   ]
  },
  {
   "cell_type": "code",
   "execution_count": null,
   "id": "e37ca1b5-b3c4-4f18-b883-333c1bd66993",
   "metadata": {},
   "outputs": [],
   "source": [
    "lis_decr_15 = np.arange(0.01,0.16,0.0025)"
   ]
  },
  {
   "cell_type": "code",
   "execution_count": null,
   "id": "79812b1b-0ce3-4669-91f5-5420117a7429",
   "metadata": {},
   "outputs": [],
   "source": [
    "decr_15 = - decr_15 * lis_decr_15\n",
    "post_decr_15 = - decr_15_post / 100 * 15"
   ]
  },
  {
   "cell_type": "code",
   "execution_count": null,
   "id": "c663bea5-a4a5-46c4-bd18-7b148d3f564a",
   "metadata": {},
   "outputs": [],
   "source": [
    "decr_15 = base_ccn.where((base_ccn.time >= 1960.) & (base_ccn.time <= 2019.)) + decr_15\n",
    "post_decr_15 = base_ccn.where((base_ccn.time >= 2019.) & (base_ccn.time <= 2500.)) + post_decr_15"
   ]
  },
  {
   "cell_type": "code",
   "execution_count": null,
   "id": "7e73330c-bc72-4b89-adc8-6ce3024f5495",
   "metadata": {},
   "outputs": [],
   "source": [
    "decrement_15 = decr_15.combine_first(post_decr_15)\n",
    "decrement_15_fin = decr_15_pre.combine_first(decrement_15)"
   ]
  },
  {
   "cell_type": "code",
   "execution_count": null,
   "id": "92010d94-88cb-4851-807c-879c131739b8",
   "metadata": {},
   "outputs": [],
   "source": [
    "# decrement 30% from 1935 to 2054"
   ]
  },
  {
   "cell_type": "code",
   "execution_count": null,
   "id": "348d7555-88be-4c5b-9628-3622362c7205",
   "metadata": {},
   "outputs": [],
   "source": [
    "decr_30_pre = base_ccn.sel(time=slice(1765.,1935.))\n",
    "decr_30 = base_ccn.sel(time=slice(1935.,2054.))\n",
    "decr_30_post = base_ccn.sel(time=slice(2055.,2500.))"
   ]
  },
  {
   "cell_type": "code",
   "execution_count": null,
   "id": "6fa60b81-da84-4378-a8ef-0916f5dcaf3e",
   "metadata": {},
   "outputs": [],
   "source": [
    "lis_decr_30 = np.arange(0.01,0.31,0.0025)"
   ]
  },
  {
   "cell_type": "code",
   "execution_count": null,
   "id": "05aff318-1439-434a-a5f1-2ad46e2bc1d7",
   "metadata": {},
   "outputs": [],
   "source": [
    "decr_30 = - decr_30 * lis_decr_30\n",
    "post_decr_30 = - decr_30_post / 100 * 30"
   ]
  },
  {
   "cell_type": "code",
   "execution_count": null,
   "id": "1d1ec7e5-7977-468b-81b3-5777bed5a057",
   "metadata": {},
   "outputs": [],
   "source": [
    "decr_30 = base_ccn.where((base_ccn.time >= 1935.) & (base_ccn.time <= 2054.)) + decr_30\n",
    "post_decr_30 = base_ccn.where((base_ccn.time >= 2054.) & (base_ccn.time <= 2500.)) + post_decr_30"
   ]
  },
  {
   "cell_type": "code",
   "execution_count": null,
   "id": "bef7bc57-6218-44de-9f8b-17271b156263",
   "metadata": {},
   "outputs": [],
   "source": [
    "decrement_30 = decr_30.combine_first(post_decr_30)\n",
    "decrement_30_fin = decr_30_pre.combine_first(decrement_30)"
   ]
  },
  {
   "cell_type": "code",
   "execution_count": null,
   "id": "4063988f-8aa9-4bee-8940-5d8b33329155",
   "metadata": {},
   "outputs": [],
   "source": [
    "datasets = [increment_15_fin, decrement_15_fin, decrement_30_fin, base_ccn]\n",
    "newdata = []\n",
    "\n",
    "for dataset in datasets:\n",
    "    dataset = dataset.sel(time=slice(1850.,2100.))\n",
    "    newdata.append(dataset)"
   ]
  },
  {
   "cell_type": "code",
   "execution_count": null,
   "id": "a1431116-25a3-478d-a5d4-b0fd7ae21383",
   "metadata": {},
   "outputs": [],
   "source": [
    "increment_15 = newdata[0]\n",
    "decrement_15 = newdata[1]\n",
    "decrement_30 = newdata[2]\n",
    "base = newdata[3]"
   ]
  },
  {
   "cell_type": "code",
   "execution_count": null,
   "id": "229b822f-3cd4-42ca-90cd-f4c95a9b0e02",
   "metadata": {},
   "outputs": [
    {
     "data": {
      "text/plain": [
       "[<matplotlib.lines.Line2D at 0x7f8ce1218850>]"
      ]
     },
     "execution_count": 31,
     "metadata": {},
     "output_type": "execute_result"
    },
    {
     "data": {
      "image/png": "[encoded data removed]",
      "text/plain": [
       "<Figure size 600x400 with 1 Axes>"
      ]
     },
     "metadata": {},
     "output_type": "display_data"
    }
   ],
   "source": [
    "plt.figure(figsize=(6,4))\n",
    "base.A_co2.plot()\n",
    "increment_15.A_co2.plot()\n",
    "decrement_15.A_co2.plot()\n",
    "decrement_30.A_co2.plot()"
   ]
  },
  {
   "cell_type": "code",
   "execution_count": null,
   "id": "0d2594cd-70b3-4b54-98df-b36ccf3dd90d",
   "metadata": {},
   "outputs": [],
   "source": [
    "decr_30_pre = base_ccn.sel(time=slice(1765.,2100.))\n",
    "decr_30 = base_ccn.sel(time=slice(2101.,2500.))\n",
    "\n",
    "lis_decr_30 = np.arange(0.01,4.01,0.01)\n",
    "\n",
    "decr_30 = - decr_30 * lis_decr_30\n",
    "\n",
    "decrement_30 = base_ccn.where((base_ccn.time >= 2101.) & (base_ccn.time <= 2500.)) + decr_30\n",
    "\n",
    "decrement_30_fin = decr_30_pre.combine_first(decrement_30)"
   ]
  },
  {
   "cell_type": "code",
   "execution_count": null,
   "id": "b22c8653-3820-49e1-bc6f-7fa4f9be24d4",
   "metadata": {},
   "outputs": [],
   "source": []
  },
  {
   "cell_type": "code",
   "execution_count": null,
   "id": "337028a5-760c-4c80-8083-e1f492ebc4e7",
   "metadata": {},
   "outputs": [],
   "source": []
  },
  {
   "cell_type": "code",
   "execution_count": null,
   "id": "c44c7b09-a7f5-4cf0-8828-8f778cd3d345",
   "metadata": {},
   "outputs": [],
   "source": []
  },
  {
   "cell_type": "code",
   "execution_count": null,
   "id": "645b6e9b-9b33-4d70-99a4-fd73fd52ffe3",
   "metadata": {},
   "outputs": [],
   "source": [
    "# 05% increment"
   ]
  },
  {
   "cell_type": "code",
   "execution_count": null,
   "id": "edf3d34d-69b7-445c-a579-7a3b3fdf6489",
   "metadata": {},
   "outputs": [],
   "source": [
    "incr_05_pre = base_ccn.sel(time=slice(1765.,2015.))\n",
    "incr_05 = base_ccn.sel(time=slice(2016.,2055.))\n",
    "incr_05_post = base_ccn.sel(time=slice(2056.,2500.))"
   ]
  },
  {
   "cell_type": "code",
   "execution_count": null,
   "id": "05a0e602-0170-4e30-9bef-74571b0745cb",
   "metadata": {},
   "outputs": [],
   "source": [
    "lis_incr_05 = np.arange(0.01,0.11,0.0025)"
   ]
  },
  {
   "cell_type": "code",
   "execution_count": null,
   "id": "bf372f50-26eb-46f8-9d8d-dd4e247dc42f",
   "metadata": {},
   "outputs": [],
   "source": [
    "incr_05 = incr_05 * lis_incr_05\n",
    "post_incr_05 = incr_05_post / 100 * 10"
   ]
  },
  {
   "cell_type": "code",
   "execution_count": null,
   "id": "8d4c173b-8eb5-48bd-bccf-c631f2b0b0a1",
   "metadata": {},
   "outputs": [],
   "source": [
    "incr_05 = base_ccn.where((base_ccn.time >= 2016.) & (base_ccn.time <= 2055.)) + incr_05\n",
    "post_incr_05 = base_ccn.where((base_ccn.time >= 2056.) & (base_ccn.time <= 2500.)) + post_incr_05"
   ]
  },
  {
   "cell_type": "code",
   "execution_count": null,
   "id": "74bbe310-9692-429f-a33c-e13b2719b0ec",
   "metadata": {},
   "outputs": [],
   "source": [
    "increment_05 = incr_05.combine_first(post_incr_05)\n",
    "increment_05_fin = incr_05_pre.combine_first(increment_05)"
   ]
  },
  {
   "cell_type": "code",
   "execution_count": null,
   "id": "89dab7d4-6116-4309-b989-f3d086f24612",
   "metadata": {},
   "outputs": [],
   "source": [
    "# 05% decrement"
   ]
  },
  {
   "cell_type": "code",
   "execution_count": null,
   "id": "4294065b-2fc6-4857-a797-a6ad372893a8",
   "metadata": {},
   "outputs": [],
   "source": [
    "decr_05_pre = base_ccn.sel(time=slice(1765.,2015.))\n",
    "decr_05 = base_ccn.sel(time=slice(2016.,2055.))\n",
    "decr_05_post = base_ccn.sel(time=slice(2056.,2500.))"
   ]
  },
  {
   "cell_type": "code",
   "execution_count": null,
   "id": "60a4a8ae-523e-4f5d-9866-f853ea762eb1",
   "metadata": {},
   "outputs": [],
   "source": [
    "lis_decr_05 = np.arange(0.01,0.11,0.0025)"
   ]
  },
  {
   "cell_type": "code",
   "execution_count": null,
   "id": "328f5969-6ee3-4efe-8063-f556be5a74da",
   "metadata": {},
   "outputs": [],
   "source": [
    "decr_05 = - decr_05 * lis_decr_05\n",
    "post_decr_05 = - decr_05_post / 100 * 10"
   ]
  },
  {
   "cell_type": "code",
   "execution_count": null,
   "id": "0685ee6b-333d-4e71-b352-98eab104a130",
   "metadata": {},
   "outputs": [],
   "source": [
    "decr_05 = base_ccn.where((base_ccn.time >= 2016.) & (base_ccn.time <= 2055.)) + decr_05\n",
    "post_decr_05 = base_ccn.where((base_ccn.time >= 2056.) & (base_ccn.time <= 2500.)) + post_decr_05"
   ]
  },
  {
   "cell_type": "code",
   "execution_count": null,
   "id": "01614fe8-43bc-478a-9714-4a096e3f94be",
   "metadata": {},
   "outputs": [],
   "source": [
    "decrement_05 = decr_05.combine_first(post_decr_05)\n",
    "decrement_05_fin = decr_05_pre.combine_first(decrement_05)"
   ]
  },
  {
   "cell_type": "code",
   "execution_count": null,
   "id": "f74b11bd-13ca-4e6c-8c64-191b30c76278",
   "metadata": {},
   "outputs": [],
   "source": [
    "# decrement"
   ]
  },
  {
   "cell_type": "code",
   "execution_count": null,
   "id": "0218975a-243a-4583-8cc3-c244c8c617c3",
   "metadata": {},
   "outputs": [],
   "source": [
    "decr_30_pre = base_ccn.sel(time=slice(1765.,2015.))\n",
    "decr_30 = base_ccn.sel(time=slice(2016.,2045.))\n",
    "decr_30_post = base_ccn.sel(time=slice(2046.,2500.))"
   ]
  },
  {
   "cell_type": "code",
   "execution_count": null,
   "id": "2365ba13-5a62-4596-b181-76741b872f8b",
   "metadata": {},
   "outputs": [],
   "source": [
    "lis_decr_30 = np.arange(0.01,0.31,0.01)"
   ]
  },
  {
   "cell_type": "code",
   "execution_count": null,
   "id": "cc916ea1-598e-4782-98e3-3bbc0736118c",
   "metadata": {},
   "outputs": [],
   "source": [
    "decr_30 = - decr_30 * lis_decr_30\n",
    "post_decr_30 = - decr_30_post / 100 * 30"
   ]
  },
  {
   "cell_type": "code",
   "execution_count": null,
   "id": "9891c976-4686-43ec-bb04-9befcb471ccd",
   "metadata": {},
   "outputs": [],
   "source": [
    "decr_30 = base_ccn.where((base_ccn.time >= 2016.) & (base_ccn.time <= 2045.)) + decr_30\n",
    "post_decr_30 = base_ccn.where((base_ccn.time >= 2046.) & (base_ccn.time <= 2500.)) + post_decr_30"
   ]
  },
  {
   "cell_type": "code",
   "execution_count": null,
   "id": "c56eeca4-0225-4638-ada5-6df8b43b6f57",
   "metadata": {},
   "outputs": [],
   "source": [
    "decrement_30 = decr_30.combine_first(post_decr_30)\n",
    "decrement_30_fin = decr_30_pre.combine_first(decrement_30)"
   ]
  },
  {
   "cell_type": "code",
   "execution_count": null,
   "id": "2e1539dc-4258-4942-a2ef-cb96e7de4cd8",
   "metadata": {},
   "outputs": [],
   "source": [
    "datasets = [increment_05_fin, decrement_05_fin, decrement_30_fin, base_ccn]\n",
    "newdata = []\n",
    "\n",
    "for dataset in datasets:\n",
    "    dataset = dataset.sel(time=slice(1850.,2100.))\n",
    "    newdata.append(dataset)"
   ]
  },
  {
   "cell_type": "code",
   "execution_count": null,
   "id": "f797d97c-fd31-441e-87ca-9e5e7839451d",
   "metadata": {},
   "outputs": [],
   "source": [
    "increment_05 = newdata[0]\n",
    "decrement_05 = newdata[1]\n",
    "decrement_30 = newdata[2]\n",
    "base = newdata[3]"
   ]
  },
  {
   "cell_type": "code",
   "execution_count": null,
   "id": "c3cbfb74-bc35-4c9b-aa8a-77056c4b511f",
   "metadata": {},
   "outputs": [],
   "source": []
  },
  {
   "cell_type": "code",
   "execution_count": null,
   "id": "15416915-6b89-4c16-96d1-95d332713f9b",
   "metadata": {},
   "outputs": [],
   "source": [
    "example = xr.open_dataset('/Users/chiaraciscato/Downloads/A_co2_1850-2200.nc', decode_times=False)"
   ]
  },
  {
   "cell_type": "code",
   "execution_count": null,
   "id": "1fda9ab8-e8b9-4abf-8fff-70433dc27a51",
   "metadata": {},
   "outputs": [],
   "source": [
    "# increment"
   ]
  },
  {
   "cell_type": "code",
   "execution_count": null,
   "id": "bc0b571a-e3a2-42cc-9352-b591627e7c0b",
   "metadata": {},
   "outputs": [],
   "source": [
    "incr_pre = example.sel(time=slice(1765.,2019.))\n",
    "incr = example.sel(time=slice(2020.,2200.))"
   ]
  },
  {
   "cell_type": "code",
   "execution_count": null,
   "id": "0b7ec57a-b6ee-42cb-87cd-20915ad20082",
   "metadata": {},
   "outputs": [],
   "source": [
    "lis_incr = np.arange(.01,.46,.0025)"
   ]
  },
  {
   "cell_type": "code",
   "execution_count": null,
   "id": "0ece09b4-f478-45f0-b0a3-a6d3c973d1ca",
   "metadata": {},
   "outputs": [],
   "source": [
    "incr = incr * lis_incr"
   ]
  },
  {
   "cell_type": "code",
   "execution_count": null,
   "id": "d6619a5b-3958-4073-94bc-0dce68c08c91",
   "metadata": {},
   "outputs": [],
   "source": [
    "incr = example.where((example.time >= 2020.) & (example.time <= 2200.)) + incr"
   ]
  },
  {
   "cell_type": "code",
   "execution_count": null,
   "id": "0064ddc9-d014-4568-b8bf-4144cc702295",
   "metadata": {},
   "outputs": [],
   "source": [
    "incr_fin = incr_pre.combine_first(incr)"
   ]
  },
  {
   "cell_type": "code",
   "execution_count": null,
   "id": "66e7a606-df4c-4480-85bf-158adb828877",
   "metadata": {},
   "outputs": [],
   "source": []
  },
  {
   "cell_type": "code",
   "execution_count": null,
   "id": "b28d1e22-a295-4060-a30c-f52657f477a3",
   "metadata": {},
   "outputs": [
    {
     "data": {
      "text/plain": [
       "[<matplotlib.lines.Line2D at 0x7f8ce20b08d0>]"
      ]
     },
     "execution_count": 400,
     "metadata": {},
     "output_type": "execute_result"
    },
    {
     "data": {
      "image/png": "[encoded data removed]",
      "text/plain": [
       "<Figure size 600x400 with 1 Axes>"
      ]
     },
     "metadata": {},
     "output_type": "display_data"
    }
   ],
   "source": [
    "plt.figure(figsize=(6,4))\n",
    "rcp45.A_co2.plot()\n",
    "ssp1.A_co2.plot()\n",
    "incr_fin.A_co2.plot()"
   ]
  },
  {
   "cell_type": "code",
   "execution_count": null,
   "id": "1c552a4d-7f3c-43d7-8c8c-9a0c6b2a011b",
   "metadata": {},
   "outputs": [],
   "source": []
  }
 ],
 "metadata": {
  "kernelspec": {
   "display_name": "geomar",
   "language": "python",
   "name": "geomar"
  },
  "language_info": {
   "codemirror_mode": {
    "name": "ipython",
    "version": 3
   },
   "file_extension": ".py",
   "mimetype": "text/x-python",
   "name": "python",
   "nbconvert_exporter": "python",
   "pygments_lexer": "ipython3",
   "version": "3.7.12"
  }
 },
 "nbformat": 4,
 "nbformat_minor": 5
}
