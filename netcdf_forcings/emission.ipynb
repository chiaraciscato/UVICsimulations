{
 "cells": [
  {
   "cell_type": "code",
   "execution_count": 30,
   "id": "bbc90972-c4f1-42a5-bd2a-19dca426727b",
   "metadata": {},
   "outputs": [],
   "source": [
    "import xarray as xr\n",
    "import matplotlib as mpl\n",
    "import matplotlib.pyplot as plt\n",
    "import matplotlib.patches as mpatches\n",
    "import numpy as np"
   ]
  },
  {
   "cell_type": "code",
   "execution_count": 31,
   "id": "ecddf119-9d07-4561-9fdd-949580d65d9a",
   "metadata": {},
   "outputs": [],
   "source": [
    "rcp85 = xr.open_dataset('/Users/chiaraciscato/Desktop/geomar/UVic/data.100.100.19/F_co2emit_RCP85.nc')"
   ]
  },
  {
   "cell_type": "code",
   "execution_count": 3,
   "id": "f22565d3-9efb-4af8-953f-2b17f5d2052f",
   "metadata": {},
   "outputs": [],
   "source": [
    "rcp85 = rcp85.sel(time=slice(1765.,2200.))"
   ]
  },
  {
   "cell_type": "code",
   "execution_count": 4,
   "id": "d2a675d8-5548-497b-b169-0d0e2badf04d",
   "metadata": {},
   "outputs": [],
   "source": [
    "# F_co2efuel F_co2eland F_co2emit"
   ]
  },
  {
   "cell_type": "code",
   "execution_count": 5,
   "id": "b299f389-c6ee-4145-ae99-449cd517d8af",
   "metadata": {},
   "outputs": [],
   "source": [
    "# 25% decrement"
   ]
  },
  {
   "cell_type": "code",
   "execution_count": 6,
   "id": "476ce105-e8fa-4de7-bbe7-231fcde4ef4f",
   "metadata": {},
   "outputs": [],
   "source": [
    "decr_25_pre = rcp85.sel(time=slice(1765.,2015.))\n",
    "decr_25 = rcp85.sel(time=slice(2016.,2100.))"
   ]
  },
  {
   "cell_type": "code",
   "execution_count": 7,
   "id": "f9587579-4214-49fc-a2eb-57d668e979dc",
   "metadata": {},
   "outputs": [],
   "source": [
    "lis_decr_25 = np.arange(0,0.25,0.00294118)"
   ]
  },
  {
   "cell_type": "code",
   "execution_count": 8,
   "id": "8bb59422-2180-490c-b184-fe539bf4006b",
   "metadata": {},
   "outputs": [],
   "source": [
    "decr_25 = - decr_25 * lis_decr_25"
   ]
  },
  {
   "cell_type": "code",
   "execution_count": 9,
   "id": "1b328419-7cdc-460b-a726-ce9bfc126051",
   "metadata": {},
   "outputs": [],
   "source": [
    "decr = rcp85.where((rcp85.time >= 2015.) & (rcp85.time <= 2200.)) + decr_25"
   ]
  },
  {
   "cell_type": "code",
   "execution_count": 10,
   "id": "1cacb4cd-1134-4b93-865c-f6ad3d78bf82",
   "metadata": {},
   "outputs": [],
   "source": [
    "decr_fin_25 = decr_25_pre.combine_first(decr)"
   ]
  },
  {
   "cell_type": "code",
   "execution_count": 11,
   "id": "bcaeba08-6a8c-4e97-961a-cd8aa1d1c774",
   "metadata": {},
   "outputs": [],
   "source": [
    "# 50% decrement"
   ]
  },
  {
   "cell_type": "code",
   "execution_count": 12,
   "id": "6c30866f-2c7d-41c8-874f-0eed0d1dc7eb",
   "metadata": {},
   "outputs": [],
   "source": [
    "decr_50_pre = rcp85.sel(time=slice(1765.,2015.))\n",
    "decr_50 = rcp85.sel(time=slice(2015.,2100.))"
   ]
  },
  {
   "cell_type": "code",
   "execution_count": 13,
   "id": "fb320ffd-1ce4-4f50-a954-da60f680304b",
   "metadata": {},
   "outputs": [],
   "source": [
    "lis_decr_50 = np.arange(0,0.5,0.00588235)"
   ]
  },
  {
   "cell_type": "code",
   "execution_count": 14,
   "id": "8fa4a6cf-18f7-49df-b433-24cecc74a2f9",
   "metadata": {},
   "outputs": [],
   "source": [
    "decr_50 = - decr_50 * lis_decr_50"
   ]
  },
  {
   "cell_type": "code",
   "execution_count": 15,
   "id": "ad424e28-db0f-4bc2-9f59-970c3a4c3257",
   "metadata": {},
   "outputs": [],
   "source": [
    "decr = rcp85.where((rcp85.time >= 2015.) & (rcp85.time <= 2100.)) + decr_50"
   ]
  },
  {
   "cell_type": "code",
   "execution_count": 16,
   "id": "bd3bf2ea-2993-474b-8ac6-287d26960107",
   "metadata": {},
   "outputs": [],
   "source": [
    "decr_fin_50 = decr_50_pre.combine_first(decr)"
   ]
  },
  {
   "cell_type": "code",
   "execution_count": 17,
   "id": "42141c39-fbec-4334-b738-601819586550",
   "metadata": {},
   "outputs": [],
   "source": [
    "# 85% decrement"
   ]
  },
  {
   "cell_type": "code",
   "execution_count": 18,
   "id": "3fb46e43-34db-4fe9-86c5-2b11fd2ff87b",
   "metadata": {},
   "outputs": [],
   "source": [
    "decr_85_pre = rcp85.sel(time=slice(1765.,2015.))\n",
    "decr_85 = rcp85.sel(time=slice(2016.,2100.))"
   ]
  },
  {
   "cell_type": "code",
   "execution_count": 19,
   "id": "e5d0fbe5-d1a7-4b22-b5fa-7a66cc4e91ba",
   "metadata": {},
   "outputs": [],
   "source": [
    "lis_decr_85 = np.arange(0,0.85,0.01)"
   ]
  },
  {
   "cell_type": "code",
   "execution_count": 20,
   "id": "eec0a7d3-5f27-4cf6-b025-e6cead0785d3",
   "metadata": {},
   "outputs": [],
   "source": [
    "decr_85 = - decr_85 * lis_decr_85"
   ]
  },
  {
   "cell_type": "code",
   "execution_count": 21,
   "id": "084b90fb-d52d-4fec-bd2e-a40d66029144",
   "metadata": {},
   "outputs": [],
   "source": [
    "decr_85 = rcp85.where((rcp85.time >= 2015.) & (rcp85.time <= 2100.)) + decr_85"
   ]
  },
  {
   "cell_type": "code",
   "execution_count": 22,
   "id": "00107a37-a00b-4620-84b0-e330bd071dd1",
   "metadata": {},
   "outputs": [],
   "source": [
    "decr_fin_85 = decr_85_pre.combine_first(decr_85)"
   ]
  },
  {
   "cell_type": "code",
   "execution_count": 23,
   "id": "fc804532-9bc0-4be2-9b09-dcc0abd989f2",
   "metadata": {},
   "outputs": [],
   "source": [
    "datasets = [rcp85, decr_fin_25, decr_fin_50, decr_fin_85]\n",
    "newdata = []\n",
    "\n",
    "for dataset in datasets:\n",
    "    dataset = dataset.sel(time=slice(1950.,2100.))\n",
    "    newdata.append(dataset)"
   ]
  },
  {
   "cell_type": "code",
   "execution_count": 24,
   "id": "adbe7a29-bfe1-48a3-95d0-5dae37991cb2",
   "metadata": {},
   "outputs": [],
   "source": [
    "rcp85 = newdata[0]\n",
    "decr_fin_25 = newdata[1]\n",
    "decr_fin_50 = newdata[2]\n",
    "decr_fin_85 = newdata[3]"
   ]
  },
  {
   "cell_type": "code",
   "execution_count": 25,
   "id": "ae600564-5ca5-4422-a9bd-612af9344b2a",
   "metadata": {},
   "outputs": [],
   "source": [
    "decr_fin_25 = decr_fin_25 * 31536000 / 1e12\n",
    "decr_fin_50 = decr_fin_50 * 31536000 / 1e12\n",
    "decr_fin_85 = decr_fin_85 * 31536000 / 1e12\n",
    "rcp85 = rcp85 * 31536000 / 1e12"
   ]
  },
  {
   "cell_type": "code",
   "execution_count": 26,
   "id": "b131c102-e052-42e9-a76d-475269ca632d",
   "metadata": {},
   "outputs": [
    {
     "data": {
      "text/plain": [
       "[<matplotlib.lines.Line2D at 0x7f9a886cba50>]"
      ]
     },
     "execution_count": 26,
     "metadata": {},
     "output_type": "execute_result"
    },
    {
     "data": {
      "image/png": "[encoded data removed]",
      "text/plain": [
       "<Figure size 640x480 with 1 Axes>"
      ]
     },
     "metadata": {},
     "output_type": "display_data"
    }
   ],
   "source": [
    "decr_fin_25.F_co2emit.plot()\n",
    "decr_fin_50.F_co2emit.plot()\n",
    "decr_fin_85.F_co2emit.plot()\n",
    "rcp85.F_co2emit.plot()"
   ]
  },
  {
   "cell_type": "code",
   "execution_count": 27,
   "id": "bd4a6a11-4bbf-4f81-8432-2b8fcbf004a3",
   "metadata": {},
   "outputs": [],
   "source": [
    "rcp85.to_netcdf('/Users/chiaraciscato/Desktop/geomar/UVic/chiara_runs/netcdf_forcings/emis_rcp85.nc')\n",
    "decr_fin_25.to_netcdf('/Users/chiaraciscato/Desktop/geomar/UVic/chiara_runs/netcdf_forcings/emis_decr_25.nc')\n",
    "decr_fin_50.to_netcdf('/Users/chiaraciscato/Desktop/geomar/UVic/chiara_runs/netcdf_forcings/emis_decr_50.nc')\n",
    "decr_fin_85.to_netcdf('/Users/chiaraciscato/Desktop/geomar/UVic/chiara_runs/netcdf_forcings/emis_decr_85.nc')"
   ]
  }
 ],
 "metadata": {
  "kernelspec": {
   "display_name": "geomar",
   "language": "python",
   "name": "geomar"
  },
  "language_info": {
   "codemirror_mode": {
    "name": "ipython",
    "version": 3
   },
   "file_extension": ".py",
   "mimetype": "text/x-python",
   "name": "python",
   "nbconvert_exporter": "python",
   "pygments_lexer": "ipython3",
   "version": "3.7.12"
  }
 },
 "nbformat": 4,
 "nbformat_minor": 5
}
