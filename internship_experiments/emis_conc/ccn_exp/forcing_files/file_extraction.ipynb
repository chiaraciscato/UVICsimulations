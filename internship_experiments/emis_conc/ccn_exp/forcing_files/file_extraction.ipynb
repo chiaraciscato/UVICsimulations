{
 "cells": [
  {
   "cell_type": "code",
   "execution_count": 1,
   "id": "d107b01a-9212-4f18-8d1d-4bdd322295a6",
   "metadata": {},
   "outputs": [],
   "source": [
    "import xarray as xr"
   ]
  },
  {
   "cell_type": "code",
   "execution_count": 2,
   "id": "6dca4884-5879-4b5f-b96e-641be00bc930",
   "metadata": {},
   "outputs": [],
   "source": [
    "rcp85 = xr.open_dataset('/Users/chiaraciscato/Desktop/geomar/UVic/chiara_runs/internship_experiments/ccn_experiments/forcing_files/aco2emis85.nc', decode_times=False)\n",
    "rcp8525 = xr.open_dataset('/Users/chiaraciscato/Desktop/geomar/UVic/chiara_runs/internship_experiments/ccn_experiments/forcing_files/aco2emis8525.nc', decode_times=False)\n",
    "rcp8550 = xr.open_dataset('/Users/chiaraciscato/Desktop/geomar/UVic/chiara_runs/internship_experiments/ccn_experiments/forcing_files/aco2emis8550.nc', decode_times=False)\n",
    "rcp8585 = xr.open_dataset('/Users/chiaraciscato/Desktop/geomar/UVic/chiara_runs/internship_experiments/ccn_experiments/forcing_files/aco2emis8585.nc', decode_times=False)"
   ]
  },
  {
   "cell_type": "code",
   "execution_count": 3,
   "id": "17872531-de40-473c-a67a-834d41b54cbb",
   "metadata": {},
   "outputs": [],
   "source": [
    "datasets = [rcp85, rcp8525, rcp8550, rcp8585]"
   ]
  },
  {
   "cell_type": "code",
   "execution_count": 4,
   "id": "f5b39635-8d57-4d90-b675-c3ae79e3f68e",
   "metadata": {},
   "outputs": [],
   "source": [
    "newsets = []\n",
    "\n",
    "for dataset in datasets:\n",
    "    dataset['TIME'] = dataset.TIME - 0.5\n",
    "    dataset['A_co2'] = dataset['A_CO2']\n",
    "    dataset = dataset.drop(['A_CO2'])\n",
    "    dataset = dataset.rename({'TIME': 'time'})\n",
    "    newsets.append(dataset)"
   ]
  },
  {
   "cell_type": "code",
   "execution_count": 6,
   "id": "aba0e2c0-eb56-49ba-bc8e-3cab4b7bafe6",
   "metadata": {},
   "outputs": [],
   "source": [
    "rcp85 = newsets[0]\n",
    "rcp8525 = newsets[1]\n",
    "rcp8550 = newsets[2]\n",
    "rcp8585 = newsets[3]"
   ]
  },
  {
   "cell_type": "code",
   "execution_count": 1,
   "id": "611e0aaa-4b69-45b6-a660-4127c8014d67",
   "metadata": {},
   "outputs": [],
   "source": [
    "# rcp85.to_netcdf('/Users/chiaraciscato/Desktop/geomar/UVic/chiara_runs/internship_experiments/ccn_experiments/rcp85/data/A_co2.nc')\n",
    "# rcp8525.to_netcdf('/Users/chiaraciscato/Desktop/geomar/UVic/chiara_runs/internship_experiments/ccn_experiments/rcp85-25/data/A_co2.nc')\n",
    "# rcp8550.to_netcdf('/Users/chiaraciscato/Desktop/geomar/UVic/chiara_runs/internship_experiments/ccn_experiments/rcp85-50/data/A_co2.nc')\n",
    "# rcp8585.to_netcdf('/Users/chiaraciscato/Desktop/geomar/UVic/chiara_runs/internship_experiments/ccn_experiments/rcp85-85/data/A_co2.nc')"
   ]
  },
  {
   "cell_type": "code",
   "execution_count": null,
   "id": "bed0c505-435c-4297-8bbd-620279156fee",
   "metadata": {},
   "outputs": [],
   "source": []
  }
 ],
 "metadata": {
  "kernelspec": {
   "display_name": "geomar",
   "language": "python",
   "name": "geomar"
  },
  "language_info": {
   "codemirror_mode": {
    "name": "ipython",
    "version": 3
   },
   "file_extension": ".py",
   "mimetype": "text/x-python",
   "name": "python",
   "nbconvert_exporter": "python",
   "pygments_lexer": "ipython3",
   "version": "3.7.12"
  }
 },
 "nbformat": 4,
 "nbformat_minor": 5
}
